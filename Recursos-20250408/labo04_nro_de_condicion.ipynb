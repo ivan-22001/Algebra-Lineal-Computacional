{
 "cells": [
  {
   "cell_type": "markdown",
   "metadata": {
    "id": "Kq98NiDqWK-l"
   },
   "source": [
    "# **Laboratorio N°5: Número de Condición**\n"
   ]
  },
  {
   "cell_type": "code",
   "execution_count": 2,
   "metadata": {
    "id": "6atTtblVBdyJ"
   },
   "outputs": [],
   "source": [
    "import numpy as np\n",
    "import matplotlib.pyplot as plt"
   ]
  },
  {
   "cell_type": "markdown",
   "metadata": {
    "id": "FZ4ubXwRWkxS"
   },
   "source": [
    "## Ejercicio 1"
   ]
  },
  {
   "cell_type": "markdown",
   "metadata": {
    "id": "g2c9AtS1miT3"
   },
   "source": [
    "En este ejercicio vamos a probar o refutar algunas propiedades sobre el numero de condicion.\n",
    "En cada item tendremos un propiedad que puede ser verdadera o falsa.\n",
    " - En caso de ser verdadera: dar su demostracion.\n",
    " - En caso de ser falsa: utilizar numpy para dar un contraejemplo.\n",
    "\n",
    "Utilizar el comando `np.linalg.cond`."
   ]
  },
  {
   "cell_type": "markdown",
   "metadata": {
    "id": "A-372eKMoxfv"
   },
   "source": [
    "**(a)** $Cond_2(A)$ + $Cond_2(B)$ = $Cond_2(A+B)$"
   ]
  },
  {
   "cell_type": "code",
   "execution_count": null,
   "metadata": {
    "id": "Yv2s8jG8mLCf"
   },
   "outputs": [],
   "source": []
  },
  {
   "cell_type": "markdown",
   "metadata": {
    "id": "QwSNVeEdrQpB"
   },
   "source": [
    "**(b)** $Cond_1(A)$ - $Cond_1(B)$ = $Cond_2(A-B)$"
   ]
  },
  {
   "cell_type": "code",
   "execution_count": null,
   "metadata": {
    "id": "47LDxl3IrXaP"
   },
   "outputs": [],
   "source": []
  },
  {
   "cell_type": "markdown",
   "metadata": {
    "id": "0t1kpuIerYgi"
   },
   "source": [
    "**(c)** $Cond_2(A)$ * $Cond_2(B)$ = $Cond_2(A.B)$"
   ]
  },
  {
   "cell_type": "code",
   "execution_count": null,
   "metadata": {
    "id": "4HB6oTEcrhdf"
   },
   "outputs": [],
   "source": []
  },
  {
   "cell_type": "markdown",
   "metadata": {
    "id": "IUuL-FA3WiT9"
   },
   "source": [
    "## Ejercicio 2"
   ]
  },
  {
   "cell_type": "markdown",
   "metadata": {
    "id": "8d_oakt6WyjI"
   },
   "source": [
    "El objetivo de este ejercicio es estudiar el número de condición de\n",
    "algunas matrices a medida que su tamaño aumenta.\n"
   ]
  },
  {
   "cell_type": "markdown",
   "metadata": {
    "id": "mtcF4XEcWw2X"
   },
   "source": [
    "\n",
    "**(a)** Programar funciones que, dado $n \\in \\mathbb{N}$, devuelvan las siguientes matrices de $\\mathbb{R}^{n\\times n}$. La función que define $B_n$ ya viene dada."
   ]
  },
  {
   "cell_type": "markdown",
   "metadata": {
    "id": "b_WTw5VmMcXY"
   },
   "source": [
    "\n",
    "\\begin{equation*}\n",
    "A_n=\n",
    "\\begin{pmatrix}\n",
    "\\frac{1}{n} & 0 & 0 & \\cdots  & n^2\\\\\n",
    "0 & \\frac{1}{n} & 0 & \\cdots & 0 \\\\\n",
    "0 & 0 & \\frac{1}{n} & \\cdots & 0\\\\\n",
    "\\vdots & \\vdots & \\vdots  & \\ddots & \\vdots\\\\\n",
    "1 & 0 & 0 & \\cdots &  \\frac{1}{n}\\\\\n",
    "\\end{pmatrix}\n",
    "\\qquad\n",
    "B_n=\n",
    "\\begin{pmatrix}\n",
    "4 & 1 & 0 & \\cdots & 0 & 0\\\\\n",
    "1 & 4 & 1 & \\cdots & 0 & 0 \\\\\n",
    "0 & 1 & 4 & \\ddots &  & \\vdots\\\\\n",
    "\\vdots & \\vdots & \\ddots & \\ddots & \\ddots & \\vdots \\\\\n",
    "0 & 0 &  & \\ddots & 4 & 1\\\\\n",
    "0 & 0 & \\cdots & \\cdots & 1 & 4 \\\\\n",
    "\\end{pmatrix}\n",
    "\\qquad\n",
    "H_n=\n",
    "\\begin{pmatrix}\n",
    "1 & \\frac{1}{2} & \\frac{1}{3} & \\cdots  & \\frac{1}{n}\\\\\n",
    "\\frac{1}{2} & \\frac{1}{3} & \\frac{1}{4} & \\cdots & \\frac{1}{n+1} \\\\\n",
    "\\frac{1}{3} & \\frac{1}{4} & \\frac{1}{5} & \\cdots & \\frac{1}{n+2}\\\\\n",
    "\\vdots & \\vdots & \\vdots  & \\ddots & \\vdots\\\\\n",
    "\\frac{1}{n} & \\frac{1}{n+1} & \\frac{1}{n+2} & \\cdots &  \\frac{1}{2n-1}\\\\\n",
    "\\end{pmatrix}\n",
    "\\end{equation*}\n",
    "\n"
   ]
  },
  {
   "cell_type": "markdown",
   "metadata": {
    "id": "xtdPNSyPW1VA"
   },
   "source": [
    "**Sugerencia:** Utilizar la función `np.diag` que recibe un array de números y genera una matriz diagonal con elementos dados por el array.\n",
    "\n",
    "\n"
   ]
  },
  {
   "cell_type": "code",
   "execution_count": 3,
   "metadata": {
    "id": "k6zUVVx1TFIK"
   },
   "outputs": [],
   "source": [
    "def matriz_B(n):\n",
    "  B = np.eye(n, k=-1) + 4*np.eye(n, k=0) + np.eye(n, k=1)\n",
    "  return B"
   ]
  },
  {
   "cell_type": "markdown",
   "metadata": {
    "id": "7eEfvH42XDN6"
   },
   "source": [
    "**(b)** Graficar para 100 vectores **unitarios** (en norma 2), $v\\in\\mathbb{R^2}$, $\\; A_2v,\\ B_2v,\\ H_2v$"
   ]
  },
  {
   "cell_type": "code",
   "execution_count": 12,
   "metadata": {
    "id": "a9PLSevGBdyP"
   },
   "outputs": [
    {
     "data": {
      "text/plain": [
       "<matplotlib.legend.Legend at 0x796f8c9bfb60>"
      ]
     },
     "execution_count": 12,
     "metadata": {},
     "output_type": "execute_result"
    },
    {
     "data": {
      "image/png": "[encoded data removed]",
      "text/plain": [
       "<Figure size 640x480 with 1 Axes>"
      ]
     },
     "metadata": {},
     "output_type": "display_data"
    }
   ],
   "source": [
    "B = matriz_B(2)\n",
    "V = np.random.rand(2, 100) - 0.5 \n",
    "norm = np.linalg.norm(V,axis=0) # axis=0 lo hace por columna, \n",
    "\n",
    "V =  V/ norm\n",
    "BV = B @ V # producto matricial\n",
    "plt.scatter(V[0], V[1], label = \"v\")\n",
    "plt.scatter(BV[0], BV[1], label = \"Bv\")\n",
    "plt.legend()\n"
   ]
  },
  {
   "cell_type": "markdown",
   "metadata": {
    "id": "Md7M-6jCBdyR"
   },
   "source": [
    "**(c)** Programar una función que, dada una matriz $M_n$ y un número natural $N$, guarde en un vector el valor de $Cond_2(M_n)$ para $1\\leq n \\leq N$."
   ]
  },
  {
   "cell_type": "code",
   "execution_count": 67,
   "metadata": {
    "id": "34JfYEu3XdNy"
   },
   "outputs": [],
   "source": [
    "def vector_condicion(M, N):\n",
    "  \n",
    "  cond = np.zeros(N)\n",
    "  for n in range(0,N):\n",
    "    cond[n] = np.linalg.cond(M(n+1))  # Cond₂(M) = σ_max / σ_min\n",
    "  return(cond)\n",
    "  "
   ]
  },
  {
   "cell_type": "markdown",
   "metadata": {
    "id": "9Ehr99OvXyy_"
   },
   "source": [
    "**(d)** Realizar gráficos del número de condición en norma 2 de las matrices definidas arriba para $N=10$.\n"
   ]
  },
  {
   "cell_type": "code",
   "execution_count": 68,
   "metadata": {
    "id": "iHmlrA7sZf-n"
   },
   "outputs": [
    {
     "data": {
      "image/png": "[encoded data removed]",
      "text/plain": [
       "<Figure size 640x480 with 1 Axes>"
      ]
     },
     "metadata": {},
     "output_type": "display_data"
    }
   ],
   "source": [
    "N = 10\n",
    "x = np.arange(0, N)  # Tamaños de matriz: [1, 2, ..., 10]\n",
    "y = vector_condicion(matriz_B, N)  # Númerose condición para B_1 a B_10\n",
    "\n",
    "\n",
    "plt.plot(x, y)\n",
    "plt.show()"
   ]
  },
  {
   "cell_type": "markdown",
   "metadata": {
    "id": "eZaokS9SaAuA"
   },
   "source": [
    "**Sugerencia:** Si es necesario, utilizar una escala logarítmica en el eje $y$."
   ]
  },
  {
   "cell_type": "markdown",
   "metadata": {
    "id": "fpFKeooJafn3"
   },
   "source": [
    "**(e)** Repetir el ítem (d) para la matriz de Hilbert con $N=50$. ¿Cómo se explica el comportamiento observado?"
   ]
  },
  {
   "cell_type": "code",
   "execution_count": 75,
   "metadata": {
    "id": "XARk-RBZcvqG"
   },
   "outputs": [
    {
     "data": {
      "image/png": "[encoded data removed]",
      "text/plain": [
       "<Figure size 640x480 with 1 Axes>"
      ]
     },
     "metadata": {},
     "output_type": "display_data"
    }
   ],
   "source": [
    "def matriz_H(n):\n",
    "    \n",
    "    i,j = np.indices((n,n))\n",
    "    \n",
    "    M = 1 / (i+j+1) \n",
    "    return(M)\n",
    "\n",
    "N = 50\n",
    "x = np.arange(0, N)  # Tamaños de matriz: [1, 2, ..., 10]\n",
    "y = vector_condicion(matriz_H, N)  # Númerose condición para B_1 a B_10\n",
    "\n",
    "\n",
    "plt.plot(x, y)\n",
    "plt.show()"
   ]
  },
  {
   "cell_type": "markdown",
   "metadata": {
    "id": "bmaVGeUleqwI"
   },
   "source": [
    "## Ejercicio 3 (Ej 20 - Práctica 2)"
   ]
  },
  {
   "cell_type": "markdown",
   "metadata": {
    "id": "P4mH1SW6fmBb"
   },
   "source": [
    "\n",
    "Sea\n",
    "$A=\\left(\n",
    "\\begin{array}{ccc}\n",
    "3&0 & 0\\\\\n",
    "0& \\frac 54 & \\frac 34\\\\\n",
    "0& \\frac 34 & \\frac 54\\\\\n",
    "\\end{array}\n",
    "\\right).$\n",
    "\n"
   ]
  },
  {
   "cell_type": "code",
   "execution_count": 4,
   "metadata": {
    "id": "-0sjdy5Ml4k_"
   },
   "outputs": [
    {
     "name": "stdout",
     "output_type": "stream",
     "text": [
      "[[ 0.33333333  0.          0.        ]\n",
      " [ 0.          1.25       -0.75      ]\n",
      " [ 0.         -0.75        1.25      ]]\n"
     ]
    }
   ],
   "source": [
    "A = np.array([[3.0, 0, 0], [0, 5/4, 3/4], [0, 3/4, 5/4]])\n",
    "A_i = np.linalg.inv(A)\n",
    "print(A_i)"
   ]
  },
  {
   "cell_type": "markdown",
   "metadata": {
    "id": "M-TFe8n7gMXJ"
   },
   "source": [
    "(a) Calcular $Cond_\\infty(A)$.\n"
   ]
  },
  {
   "cell_type": "code",
   "execution_count": 5,
   "metadata": {
    "id": "k5jQ_Wz-l2I2"
   },
   "outputs": [
    {
     "name": "stdout",
     "output_type": "stream",
     "text": [
      "6.0\n"
     ]
    }
   ],
   "source": [
    "cond = np.linalg.cond(A, p=np.inf)\n",
    "print(cond)"
   ]
  },
  {
   "cell_type": "markdown",
   "metadata": {
    "id": "jlUl52wZgPjD"
   },
   "source": [
    "(b) ¿Cuán chico debe ser el error relativo en los datos, $\\frac{\\|b-\\tilde{b}\\|}{\\|b\\|}$, si se desea que el error relativo en la aproximación de la solución, $\\frac{\\|x-\\tilde{x}\\|}{\\|x\\|}, $ sea menor que $10^{-4}$ (en $\\|\\cdot\\|_{\\infty}$)?\n",
    "\n"
   ]
  },
  {
   "cell_type": "code",
   "execution_count": null,
   "metadata": {
    "id": "mqL4_Sjgl2r3"
   },
   "outputs": [],
   "source": [
    "‖𝑏−𝑏̃‖ / ‖𝑏‖ < 10e-4/cond_inf(A) segun los calculos\n",
    "\n",
    "𝑏̃ = b + e -> 𝑏̃ - b = e -> ‖𝑏−𝑏̃‖ = ‖e‖ -> ‖𝑏−𝑏̃‖ / ‖𝑏‖ = ‖e‖ / ‖𝑏‖ \n",
    "\n",
    "‖e‖ / ‖𝑏‖ < 10e-4/cond_inf(A) -> ‖e‖ < (10e-4/cond_inf(A)) * ‖𝑏‖\n",
    "\n",
    "luego genero algun vector aleatorio en el rango de [-1,1] y lo multiplico por el error. Eso luego seria b_p = e + b"
   ]
  },
  {
   "cell_type": "markdown",
   "metadata": {
    "id": "2wRP31mSgQ5c"
   },
   "source": [
    "(c) Realizar experimentos numéricos para verificar las estimaciones del ítem anterior. Considerar $b=(3,2,2)^t$, que se corresponde con la solución exacta $x=(1,1,1)^t$. Generar vectores de error aleatorios, normalizarlos para que su norma sea tan chica como la estimada en el item anterior y perturbar $b$ obteniendo $\\tilde{b}$. Finalmente, resolver $A\\tilde{x}=\\tilde{b}$ y verificar que $\\|\\tilde{x}-x\\|<10^{-4}$."
   ]
  },
  {
   "cell_type": "code",
   "execution_count": 10,
   "metadata": {
    "id": "5nggErzxl3In"
   },
   "outputs": [
    {
     "name": "stdout",
     "output_type": "stream",
     "text": [
      "True\n"
     ]
    }
   ],
   "source": [
    "b = np.array([3,2,2])\n",
    "x = np.array([1,1,1])\n",
    "\n",
    "error_relativo = 10e-4 / cond #lo calculado en el item anterior\n",
    "\n",
    "e_cond = error_relativo * (np.linalg.norm(b,np.inf))\n",
    "#ahora vamos a perturbar el valor de b\n",
    "random = np.random.uniform(low=-1,high=1,size=3)\n",
    "e = random * e_cond\n",
    "\n",
    "b_p = b + e\n",
    "\n",
    "x_p = np.linalg.solve(A,b_p)\n",
    "\n",
    "print((np.linalg.norm(x-x_p,np.inf))/(np.linalg.norm(x,np.inf))<error_relativo)"
   ]
  }
 ],
 "metadata": {
  "colab": {
   "provenance": []
  },
  "kernelspec": {
   "display_name": "Python 3 (ipykernel)",
   "language": "python",
   "name": "python3"
  },
  "language_info": {
   "codemirror_mode": {
    "name": "ipython",
    "version": 3
   },
   "file_extension": ".py",
   "mimetype": "text/x-python",
   "name": "python",
   "nbconvert_exporter": "python",
   "pygments_lexer": "ipython3",
   "version": "3.12.3"
  }
 },
 "nbformat": 4,
 "nbformat_minor": 4
}
